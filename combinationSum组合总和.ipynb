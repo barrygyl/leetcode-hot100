{
 "cells": [
  {
   "cell_type": "code",
   "execution_count": 3,
   "id": "7152a963",
   "metadata": {},
   "outputs": [],
   "source": [
    "class Solution:\n",
    "    def combinationSum(self, candidates, target: int):\n",
    "        fin = []\n",
    "        candidates.sort()\n",
    "        def goback(idx,target,cur):\n",
    "            for i in range(idx,len(candidates)):\n",
    "                ni = candidates[i]\n",
    "                if ni<target:\n",
    "                    goback(i,(target-ni),cur+[ni])\n",
    "                else:\n",
    "                    if ni==target:\n",
    "                        fin.append(cur+[ni])\n",
    "                    break\n",
    "        goback(0,target,[])\n",
    "        return fin        "
   ]
  },
  {
   "cell_type": "code",
   "execution_count": null,
   "id": "192a43c2",
   "metadata": {},
   "outputs": [],
   "source": []
  }
 ],
 "metadata": {
  "kernelspec": {
   "display_name": "Python 3 (ipykernel)",
   "language": "python",
   "name": "python3"
  },
  "language_info": {
   "codemirror_mode": {
    "name": "ipython",
    "version": 3
   },
   "file_extension": ".py",
   "mimetype": "text/x-python",
   "name": "python",
   "nbconvert_exporter": "python",
   "pygments_lexer": "ipython3",
   "version": "3.9.12"
  }
 },
 "nbformat": 4,
 "nbformat_minor": 5
}
