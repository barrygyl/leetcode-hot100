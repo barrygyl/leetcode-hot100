{
 "cells": [
  {
   "cell_type": "code",
   "execution_count": 50,
   "id": "b29283f9",
   "metadata": {},
   "outputs": [],
   "source": [
    "class Solution:\n",
    "    def reverse(self, x: int) -> int:\n",
    "        midx = 10\n",
    "        intX = []\n",
    "        X = 0\n",
    "        i = 0\n",
    "        s = abs(x)\n",
    "        while s>=midx/10:\n",
    "            intX.append(int((s%midx)/(midx/10)))\n",
    "            midx = midx*10\n",
    "        midx = midx/100\n",
    "        while i<len(intX):\n",
    "            X = X+intX[i]*midx\n",
    "            midx = midx/10\n",
    "            i += 1\n",
    "        if X>=-2**31 and X<=2**31-1:\n",
    "            if x>0:\n",
    "                return int(X)\n",
    "            else:\n",
    "                return int(-X)\n",
    "        else:\n",
    "            return 0"
   ]
  },
  {
   "cell_type": "code",
   "execution_count": 51,
   "id": "63d5084f",
   "metadata": {},
   "outputs": [
    {
     "data": {
      "text/plain": [
       "0"
      ]
     },
     "execution_count": 51,
     "metadata": {},
     "output_type": "execute_result"
    }
   ],
   "source": [
    "x = 1534236469\n",
    "Solution.reverse(Solution,x)"
   ]
  }
 ],
 "metadata": {
  "kernelspec": {
   "display_name": "Python 3 (ipykernel)",
   "language": "python",
   "name": "python3"
  },
  "language_info": {
   "codemirror_mode": {
    "name": "ipython",
    "version": 3
   },
   "file_extension": ".py",
   "mimetype": "text/x-python",
   "name": "python",
   "nbconvert_exporter": "python",
   "pygments_lexer": "ipython3",
   "version": "3.9.12"
  }
 },
 "nbformat": 4,
 "nbformat_minor": 5
}
