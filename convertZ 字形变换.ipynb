{
 "cells": [
  {
   "cell_type": "code",
   "execution_count": 41,
   "id": "80c73250",
   "metadata": {},
   "outputs": [],
   "source": [
    "class Solution:\n",
    "    def convert(self, s: str, numRows: int) -> str:\n",
    "        listS = list(s)\n",
    "        listF = []\n",
    "        times = 0\n",
    "        b = numRows-1\n",
    "        if numRows == 1 or len(s)==1 or len(s)<numRows:\n",
    "            lastS = s\n",
    "        else:\n",
    "            for i in range(numRows):\n",
    "                listF.append(listS[i])\n",
    "                j = i\n",
    "                if j != 0 and j != b:\n",
    "                    while j<len(s) and j+2*b-2*i<len(s):\n",
    "                        if j+2*b-2*i<len(s):\n",
    "                            listF.append(listS[j+2*b-2*i])\n",
    "                        if j+2*b<len(s):\n",
    "                            listF.append(listS[j+2*b])\n",
    "                        j = j+2*b\n",
    "                else:\n",
    "                    while j<len(s):\n",
    "                        if j+2*b<len(s):\n",
    "                            listF.append(listS[j+2*b])\n",
    "                        j = j+2*b\n",
    "            lastS = ''.join(listF)\n",
    "        return lastS"
   ]
  },
  {
   "cell_type": "code",
   "execution_count": 44,
   "id": "32738ff2",
   "metadata": {},
   "outputs": [
    {
     "data": {
      "text/plain": [
       "'ABDC'"
      ]
     },
     "execution_count": 44,
     "metadata": {},
     "output_type": "execute_result"
    }
   ],
   "source": [
    "s = \"ABCD\"\n",
    "numRows = 3\n",
    "Solution.convert(Solution,s,numRows)"
   ]
  },
  {
   "cell_type": "code",
   "execution_count": 43,
   "id": "656a0fb5",
   "metadata": {},
   "outputs": [],
   "source": [
    "class Solution:\n",
    "    def convert(self, s: str, numRows: int) -> str:\n",
    "        if numRows < 2: return s\n",
    "        res = [\"\" for _ in range(numRows)]\n",
    "        i, flag = 0, -1\n",
    "        for c in s:\n",
    "            res[i] += c\n",
    "            if i == 0 or i == numRows - 1: flag = -flag\n",
    "            i += flag\n",
    "        return \"\".join(res)\n"
   ]
  },
  {
   "cell_type": "code",
   "execution_count": null,
   "id": "21d99231",
   "metadata": {},
   "outputs": [],
   "source": []
  }
 ],
 "metadata": {
  "kernelspec": {
   "display_name": "Python 3 (ipykernel)",
   "language": "python",
   "name": "python3"
  },
  "language_info": {
   "codemirror_mode": {
    "name": "ipython",
    "version": 3
   },
   "file_extension": ".py",
   "mimetype": "text/x-python",
   "name": "python",
   "nbconvert_exporter": "python",
   "pygments_lexer": "ipython3",
   "version": "3.9.12"
  }
 },
 "nbformat": 4,
 "nbformat_minor": 5
}
