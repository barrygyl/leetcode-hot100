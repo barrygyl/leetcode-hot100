{
 "cells": [
  {
   "cell_type": "code",
   "execution_count": 44,
   "id": "8bf85cd1",
   "metadata": {},
   "outputs": [
    {
     "name": "stdout",
     "output_type": "stream",
     "text": [
      "0\n",
      "0\n",
      " \n",
      "长度 1\n",
      "maxl: 1\n",
      "1\n"
     ]
    }
   ],
   "source": [
    "s = \" \"\n",
    "#字符换列表\n",
    "list1 = list(s)\n",
    "#建立对比列表\n",
    "list2 = []\n",
    "list3 = []\n",
    "#最长子串寻找\n",
    "maxl = 0\n",
    "for i in range(len(list1)):\n",
    "    print(i)\n",
    "    for j in range(i,len(list1)):\n",
    "        print(j)\n",
    "        if list1[j] not in list2:\n",
    "            print(list1[j])\n",
    "            list2.append(list1[j])\n",
    "            print('长度',len(list2))\n",
    "        else:\n",
    "            if len(list2)>maxl:\n",
    "                maxl = len(list2)\n",
    "            list2 = []\n",
    "            break\n",
    "    if len(list2)>maxl:\n",
    "        maxl = len(list2)\n",
    "    print('maxl:',maxl)\n",
    "    if maxl>=(len(list1)-i):\n",
    "        break\n",
    "print(maxl) "
   ]
  },
  {
   "cell_type": "code",
   "execution_count": 31,
   "id": "e30b848b",
   "metadata": {},
   "outputs": [
    {
     "data": {
      "text/plain": [
       "0"
      ]
     },
     "execution_count": 31,
     "metadata": {},
     "output_type": "execute_result"
    }
   ],
   "source": [
    "class Solution(object):\n",
    "    def lengthOfLongestSubstring(self, s):\n",
    "        \"\"\"\n",
    "        :type s: str\n",
    "        :rtype: int\n",
    "        \"\"\"\n",
    "        listS,maxLen = [],0\n",
    "        for i in s:\n",
    "            if(i not in listS):\n",
    "                listS.append(i)\n",
    "                if(len(listS) > maxLen):\n",
    "                    maxLen = len(listS)\n",
    "            else:\n",
    "                ind = listS.index(i)\n",
    "                listS[0:ind + 1] = []\n",
    "                listS.append(i)\n",
    "        return maxLen"
   ]
  },
  {
   "cell_type": "code",
   "execution_count": 48,
   "id": "52f8f13c",
   "metadata": {},
   "outputs": [
    {
     "name": "stdout",
     "output_type": "stream",
     "text": [
      "1994\n"
     ]
    }
   ],
   "source": [
    "s = \"MCMXCIV\"\n",
    "tot = 0\n",
    "dic = {'I':1,'V':5,'X':10,'L':50,'C':100,'D':500,'M':1000}\n",
    "for i in s:\n",
    "    tot += dic[i]\n",
    "a = s.count('IV')\n",
    "b = s.count('IX')\n",
    "c = s.count('XL')\n",
    "d = s.count('XC')\n",
    "e = s.count('CD')\n",
    "f = s.count('CM')\n",
    "tot = tot-2*a-20*c-200*e-2*b-20*d-200*f\n",
    "print(tot)"
   ]
  },
  {
   "cell_type": "code",
   "execution_count": null,
   "id": "613cc814",
   "metadata": {},
   "outputs": [],
   "source": []
  }
 ],
 "metadata": {
  "kernelspec": {
   "display_name": "pytorch",
   "language": "python",
   "name": "pytorch"
  },
  "language_info": {
   "codemirror_mode": {
    "name": "ipython",
    "version": 3
   },
   "file_extension": ".py",
   "mimetype": "text/x-python",
   "name": "python",
   "nbconvert_exporter": "python",
   "pygments_lexer": "ipython3",
   "version": "3.9.13"
  }
 },
 "nbformat": 4,
 "nbformat_minor": 5
}
