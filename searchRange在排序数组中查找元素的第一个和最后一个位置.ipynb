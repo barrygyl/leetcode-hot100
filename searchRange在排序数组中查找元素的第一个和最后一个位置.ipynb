{
 "cells": [
  {
   "cell_type": "code",
   "execution_count": 29,
   "id": "4ff86a7c",
   "metadata": {},
   "outputs": [],
   "source": [
    "class Solution:\n",
    "    def searchRange(self, nums, target: int):\n",
    "        fin = []\n",
    "        col = 0 \n",
    "        try:\n",
    "            fin.append(nums.index(target))\n",
    "            mid = nums.index(target)-1\n",
    "        except:\n",
    "            return [-1,-1]\n",
    "        for i in range(len(nums)-1,mid,-1):\n",
    "            if nums[i] == target:\n",
    "                return [mid+1,i]"
   ]
  },
  {
   "cell_type": "code",
   "execution_count": 31,
   "id": "d669a9d4",
   "metadata": {},
   "outputs": [
    {
     "name": "stdout",
     "output_type": "stream",
     "text": [
      "[3, 3]\n"
     ]
    }
   ],
   "source": [
    "nums = [5,7,7,8,10]\n",
    "target = 8\n",
    "a = Solution.searchRange(Solution,nums,target)\n",
    "print(a)"
   ]
  },
  {
   "cell_type": "code",
   "execution_count": null,
   "id": "b425a7a8",
   "metadata": {},
   "outputs": [],
   "source": []
  }
 ],
 "metadata": {
  "kernelspec": {
   "display_name": "Python 3 (ipykernel)",
   "language": "python",
   "name": "python3"
  },
  "language_info": {
   "codemirror_mode": {
    "name": "ipython",
    "version": 3
   },
   "file_extension": ".py",
   "mimetype": "text/x-python",
   "name": "python",
   "nbconvert_exporter": "python",
   "pygments_lexer": "ipython3",
   "version": "3.9.12"
  }
 },
 "nbformat": 4,
 "nbformat_minor": 5
}
