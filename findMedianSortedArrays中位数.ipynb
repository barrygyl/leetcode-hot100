{
 "cells": [
  {
   "cell_type": "code",
   "execution_count": 3,
   "id": "7149fc20",
   "metadata": {},
   "outputs": [
    {
     "name": "stdout",
     "output_type": "stream",
     "text": [
      "2\n"
     ]
    }
   ],
   "source": [
    "a = int(5/2)\n",
    "print(a)"
   ]
  },
  {
   "cell_type": "code",
   "execution_count": 12,
   "id": "d7a1dd01",
   "metadata": {},
   "outputs": [
    {
     "name": "stdout",
     "output_type": "stream",
     "text": [
      "3\n",
      "5\n",
      "2.5\n",
      "[1, 2, 3, 4]\n"
     ]
    }
   ],
   "source": [
    "class Solution:\n",
    "    def findMedianSortedArrays(self, nums1: List[int], nums2: List[int]) -> float:\n",
    "        nums3 = []\n",
    "        j = 0\n",
    "        i = 0\n",
    "#合并排序\n",
    "        while i<len(nums1) and j<len(nums2):\n",
    "            if nums1[i]>nums2[j]:\n",
    "                nums3.append(nums2[j])\n",
    "                j += 1\n",
    "            else:\n",
    "                nums3.append(nums1[i])\n",
    "                i += 1\n",
    "        if i<len(nums1):\n",
    "            for m in range(i,len(nums1)):\n",
    "                nums3.append(nums1[m])\n",
    "        else:\n",
    "            for n in range(j,len(nums2)):\n",
    "                nums3.append(nums2[n])  \n",
    "        if len(nums3)%2 == 0:\n",
    "            #别忘了数组坐标从0开始，所以单数数组len(list)/2，是他的中间值了\n",
    "            mid = nums3[int(len(nums3)/2)]+nums3[int((len(nums3)/2))-1]\n",
    "            mid = mid/2\n",
    "        else:\n",
    "            mid = nums3[int(len(nums3)/2)]\n",
    "        return mid"
   ]
  },
  {
   "cell_type": "code",
   "execution_count": null,
   "id": "7588fa9f",
   "metadata": {},
   "outputs": [],
   "source": []
  }
 ],
 "metadata": {
  "kernelspec": {
   "display_name": "Python 3 (ipykernel)",
   "language": "python",
   "name": "python3"
  },
  "language_info": {
   "codemirror_mode": {
    "name": "ipython",
    "version": 3
   },
   "file_extension": ".py",
   "mimetype": "text/x-python",
   "name": "python",
   "nbconvert_exporter": "python",
   "pygments_lexer": "ipython3",
   "version": "3.9.12"
  }
 },
 "nbformat": 4,
 "nbformat_minor": 5
}
