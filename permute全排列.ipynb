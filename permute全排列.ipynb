{
 "cells": [
  {
   "cell_type": "code",
   "execution_count": 72,
   "id": "36baf123",
   "metadata": {},
   "outputs": [],
   "source": [
    "class Solution:\n",
    "    def permute(self, nums):\n",
    "        fin = []\n",
    "        #mid = []\n",
    "        long = len(nums)\n",
    "        def goback(i,a,mid):\n",
    "            print('第{}位置:'.format(i))\n",
    "            if i >= long:\n",
    "                fin.append(mid.copy())\n",
    "                print('fin为：',fin)\n",
    "                #mid.clear()\n",
    "                return\n",
    "            for j in range(len(a)):\n",
    "\n",
    "                print(j)\n",
    "                mid.append(a[j])\n",
    "                print('mid:',mid)\n",
    "                b = a.copy()\n",
    "                b.remove(a[j])\n",
    "                print('b:',b)\n",
    "                goback(i+1,b,mid)\n",
    "                try:\n",
    "                    mid.pop()\n",
    "                except:\n",
    "                    pass\n",
    "            \n",
    "        goback(0,nums,[])\n",
    "        return fin\n",
    "                "
   ]
  },
  {
   "cell_type": "code",
   "execution_count": 74,
   "id": "3d03f989",
   "metadata": {
    "scrolled": true
   },
   "outputs": [
    {
     "name": "stdout",
     "output_type": "stream",
     "text": [
      "第0位置:\n",
      "0\n",
      "mid: [0]\n",
      "b: [1]\n",
      "第1位置:\n",
      "0\n",
      "mid: [0, 1]\n",
      "b: []\n",
      "第2位置:\n",
      "fin为： [[0, 1]]\n",
      "1\n",
      "mid: [1]\n",
      "b: [0]\n",
      "第1位置:\n",
      "0\n",
      "mid: [1, 0]\n",
      "b: []\n",
      "第2位置:\n",
      "fin为： [[0, 1], [1, 0]]\n"
     ]
    },
    {
     "data": {
      "text/plain": [
       "[[0, 1], [1, 0]]"
      ]
     },
     "execution_count": 74,
     "metadata": {},
     "output_type": "execute_result"
    }
   ],
   "source": [
    "nums = [0,1]\n",
    "Solution.permute(Solution,nums)"
   ]
  },
  {
   "cell_type": "code",
   "execution_count": 47,
   "id": "5650dc12",
   "metadata": {},
   "outputs": [
    {
     "name": "stdout",
     "output_type": "stream",
     "text": [
      "[2, 3]\n",
      "[2, 3]\n"
     ]
    }
   ],
   "source": [
    "a = [1,2,3]\n",
    "b = a#.copy()\n",
    "b.remove(1)\n",
    "print(b)\n",
    "print(a)\n"
   ]
  },
  {
   "cell_type": "code",
   "execution_count": 40,
   "id": "4d6df707",
   "metadata": {},
   "outputs": [
    {
     "name": "stdout",
     "output_type": "stream",
     "text": [
      "[[1, 2, 3]]\n"
     ]
    }
   ],
   "source": [
    "print(b)"
   ]
  },
  {
   "cell_type": "code",
   "execution_count": null,
   "id": "bba0ea0e",
   "metadata": {},
   "outputs": [],
   "source": []
  }
 ],
 "metadata": {
  "kernelspec": {
   "display_name": "Python 3 (ipykernel)",
   "language": "python",
   "name": "python3"
  },
  "language_info": {
   "codemirror_mode": {
    "name": "ipython",
    "version": 3
   },
   "file_extension": ".py",
   "mimetype": "text/x-python",
   "name": "python",
   "nbconvert_exporter": "python",
   "pygments_lexer": "ipython3",
   "version": "3.9.12"
  }
 },
 "nbformat": 4,
 "nbformat_minor": 5
}
