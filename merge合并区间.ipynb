{
 "cells": [
  {
   "cell_type": "code",
   "execution_count": 11,
   "id": "4de9fe79",
   "metadata": {},
   "outputs": [],
   "source": [
    "class Solution:\n",
    "    def merge(self, intervals):\n",
    "        intervals.sort()\n",
    "        i = 0\n",
    "        while i < len(intervals)-1:\n",
    "            if intervals[i][1] < intervals[i+1][0]:\n",
    "                i += 1\n",
    "            else:\n",
    "                if intervals[i][1] >= intervals[i+1][1]:\n",
    "                    intervals.remove(intervals[i+1])\n",
    "                else:\n",
    "                    intervals[i][1] = intervals[i+1][1]\n",
    "                    intervals.remove(intervals[i+1])\n",
    "            print('最终：',intervals)\n",
    "        return intervals"
   ]
  },
  {
   "cell_type": "code",
   "execution_count": 13,
   "id": "78e46c96",
   "metadata": {},
   "outputs": [
    {
     "name": "stdout",
     "output_type": "stream",
     "text": [
      "最终： [[1, 5]]\n"
     ]
    },
    {
     "data": {
      "text/plain": [
       "[[1, 5]]"
      ]
     },
     "execution_count": 13,
     "metadata": {},
     "output_type": "execute_result"
    }
   ],
   "source": [
    "intervals = [[1,4],[4,5]]\n",
    "Solution.merge(Solution,intervals)"
   ]
  },
  {
   "cell_type": "code",
   "execution_count": null,
   "id": "22dcf6ce",
   "metadata": {},
   "outputs": [],
   "source": []
  }
 ],
 "metadata": {
  "kernelspec": {
   "display_name": "Python 3 (ipykernel)",
   "language": "python",
   "name": "python3"
  },
  "language_info": {
   "codemirror_mode": {
    "name": "ipython",
    "version": 3
   },
   "file_extension": ".py",
   "mimetype": "text/x-python",
   "name": "python",
   "nbconvert_exporter": "python",
   "pygments_lexer": "ipython3",
   "version": "3.9.12"
  }
 },
 "nbformat": 4,
 "nbformat_minor": 5
}
