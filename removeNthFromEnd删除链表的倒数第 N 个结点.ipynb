{
 "cells": [
  {
   "cell_type": "code",
   "execution_count": null,
   "id": "8c76a9db",
   "metadata": {},
   "outputs": [],
   "source": [
    "#Definition for singly-linked list.\n",
    "class ListNode:\n",
    "    def __init__(self, val=0, next=None):\n",
    "        self.val = val\n",
    "        self.next = next\n",
    "class Solution:\n",
    "    def removeNthFromEnd(self, head, n):\n",
    "        count = 0\n",
    "        p = head\n",
    "        while p != None:\n",
    "            count += 1\n",
    "            p = p.next\n",
    "        index = count - n\n",
    "        if index <= 0:\n",
    "            head.val = None\n",
    "            return head\n",
    "        p = head\n",
    "        if index-1>0:\n",
    "            for i in range(index-1):\n",
    "                p = p.next\n",
    "            q = p.next\n",
    "            p.next = q.next\n",
    "        else:\n",
    "            q = p.next\n",
    "            head.next = q.next\n",
    "            return head\n",
    "        return head"
   ]
  },
  {
   "cell_type": "code",
   "execution_count": null,
   "id": "66200962",
   "metadata": {},
   "outputs": [],
   "source": []
  }
 ],
 "metadata": {
  "kernelspec": {
   "display_name": "Python 3 (ipykernel)",
   "language": "python",
   "name": "python3"
  },
  "language_info": {
   "codemirror_mode": {
    "name": "ipython",
    "version": 3
   },
   "file_extension": ".py",
   "mimetype": "text/x-python",
   "name": "python",
   "nbconvert_exporter": "python",
   "pygments_lexer": "ipython3",
   "version": "3.9.12"
  }
 },
 "nbformat": 4,
 "nbformat_minor": 5
}
