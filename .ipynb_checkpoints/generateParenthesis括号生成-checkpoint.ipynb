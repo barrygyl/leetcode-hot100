{
 "cells": [
  {
   "cell_type": "code",
   "execution_count": null,
   "id": "9a70e6d4",
   "metadata": {},
   "outputs": [],
   "source": [
    "class Solution:\n",
    "    def generateParenthesis(self, n: int) -> List[str]:\n",
    "        fin = []\n",
    "        def goback(fin):\n",
    "            a = ''\n",
    "            if len(a) == 2*n:\n",
    "                if isvail(a):\n",
    "                    fin.append(a)\n",
    "            else:\n",
    "                a.append('(')\n",
    "                goback(fin)\n",
    "                a.pop\n",
    "                a.append(')')\n",
    "                goback(fin)\n",
    "                a.pop\n",
    "            return  \n",
    "            "
   ]
  },
  {
   "cell_type": "code",
   "execution_count": 1,
   "id": "65379710",
   "metadata": {},
   "outputs": [
    {
     "data": {
      "text/plain": [
       "'sd'"
      ]
     },
     "execution_count": 1,
     "metadata": {},
     "output_type": "execute_result"
    }
   ],
   "source": [
    "a = ['s','d']\n",
    "''.join(a)"
   ]
  },
  {
   "cell_type": "code",
   "execution_count": null,
   "id": "48b29631",
   "metadata": {},
   "outputs": [],
   "source": []
  }
 ],
 "metadata": {
  "kernelspec": {
   "display_name": "Python 3 (ipykernel)",
   "language": "python",
   "name": "python3"
  },
  "language_info": {
   "codemirror_mode": {
    "name": "ipython",
    "version": 3
   },
   "file_extension": ".py",
   "mimetype": "text/x-python",
   "name": "python",
   "nbconvert_exporter": "python",
   "pygments_lexer": "ipython3",
   "version": "3.9.12"
  }
 },
 "nbformat": 4,
 "nbformat_minor": 5
}
