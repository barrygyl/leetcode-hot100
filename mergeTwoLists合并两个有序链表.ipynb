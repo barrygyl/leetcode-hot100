{
 "cells": [
  {
   "cell_type": "code",
   "execution_count": null,
   "id": "bee4567c",
   "metadata": {},
   "outputs": [],
   "source": [
    "# Definition for singly-linked list.\n",
    "# class ListNode:\n",
    "#     def __init__(self, val=0, next=None):\n",
    "#         self.val = val\n",
    "#         self.next = next\n",
    "class Solution:\n",
    "    def mergeTwoLists(self, list1: Optional[ListNode], list2: Optional[ListNode]) -> Optional[ListNode]:\n",
    "        p = list1\n",
    "        q = list2\n",
    "        try:\n",
    "            if list1.val > list2.val:\n",
    "                fin = ListNode(val=list2.val)\n",
    "                a = fin\n",
    "                q = q.next\n",
    "            else:\n",
    "                fin = ListNode(val=list1.val)\n",
    "                a = fin\n",
    "                p = p.next\n",
    "            while p != None and q != None:\n",
    "                if p.val > q.val:\n",
    "                    fin.next = ListNode(val=q.val)\n",
    "                    fin = fin.next\n",
    "                    q = q.next\n",
    "                else:\n",
    "                    fin.next = ListNode(val=p.val)\n",
    "                    fin = fin.next\n",
    "                    p = p.next\n",
    "            while p != None:\n",
    "                fin.next = ListNode(val=p.val)\n",
    "                fin = fin.next\n",
    "                p = p.next\n",
    "            while q != None:\n",
    "                fin.next = ListNode(val=q.val)\n",
    "                fin = fin.next\n",
    "                q = q.next         \n",
    "            return a\n",
    "        except:\n",
    "            fin = ListNode()\n",
    "            a = fin\n",
    "            if p == None and q ==None:\n",
    "                return None\n",
    "            while p != None:\n",
    "                fin.next = ListNode(val=p.val)\n",
    "                fin = fin.next\n",
    "                p = p.next\n",
    "            while q != None:\n",
    "                fin.next = ListNode(val=q.val)\n",
    "                fin = fin.next\n",
    "                q = q.next\n",
    "            a = a.next\n",
    "            return a"
   ]
  }
 ],
 "metadata": {
  "kernelspec": {
   "display_name": "Python 3 (ipykernel)",
   "language": "python",
   "name": "python3"
  },
  "language_info": {
   "codemirror_mode": {
    "name": "ipython",
    "version": 3
   },
   "file_extension": ".py",
   "mimetype": "text/x-python",
   "name": "python",
   "nbconvert_exporter": "python",
   "pygments_lexer": "ipython3",
   "version": "3.9.12"
  }
 },
 "nbformat": 4,
 "nbformat_minor": 5
}
