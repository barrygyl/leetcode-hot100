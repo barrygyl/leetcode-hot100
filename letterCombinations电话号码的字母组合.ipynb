{
 "cells": [
  {
   "cell_type": "code",
   "execution_count": 68,
   "id": "2b12925b",
   "metadata": {},
   "outputs": [],
   "source": [
    "class Solution:\n",
    "    def my_function(self,x):\n",
    "          return list(dict.fromkeys(x))\n",
    "\n",
    "    def letterCombinations(self, digits):\n",
    "        listnum = [['a','b','c'],['d','e','f'],\n",
    "                   ['g','h','i'],['j','k','l'],\n",
    "                   ['m','n','o'],['p','q','r','s'],\n",
    "                  ['t','u','v'],['w','x','y','z']]\n",
    "        lo = 1\n",
    "        ve = 0\n",
    "        if digits == '':\n",
    "            return []\n",
    "        for gi in digits:\n",
    "            lo = lo*len(listnum[int(gi)])\n",
    "        fin = ['']*lo\n",
    "        for g in digits:\n",
    "            a = 0\n",
    "            if ve == 0:\n",
    "                for j in range(len(listnum[int(g)])):\n",
    "                    s = int(lo/len(listnum[int(g)]))\n",
    "                    for i in range(s):\n",
    "                        fin[a] = fin[a]+listnum[int(g)-2][j]\n",
    "                        a +=1\n",
    "                ve = 1\n",
    "            else:\n",
    "                s = int(lo/len(listnum[int(g)]))\n",
    "                for i in range(s):  \n",
    "                    for j in range(len(listnum[int(g)])):\n",
    "                        fin[a] = fin[a]+listnum[int(g)-2][j]\n",
    "                        a +=1\n",
    "                ve = 0\n",
    "        print(fin)\n",
    "        fin = self.my_function(self,fin)\n",
    "        return fin \n",
    "                \n",
    "                "
   ]
  },
  {
   "cell_type": "code",
   "execution_count": 70,
   "id": "b5f2adf0",
   "metadata": {},
   "outputs": [
    {
     "name": "stdout",
     "output_type": "stream",
     "text": [
      "['agd', 'ahd', 'aid', 'agd', 'ahd', 'aid', 'agd', 'ahd', 'aid', 'bge', 'bhe', 'bie', 'bge', 'bhe', 'bie', 'bge', 'bhe', 'bie', 'cgf', 'chf', 'cif', 'cgf', 'chf', 'cif', 'cgf', 'chf', 'cif']\n"
     ]
    },
    {
     "data": {
      "text/plain": [
       "['agd', 'ahd', 'aid', 'bge', 'bhe', 'bie', 'cgf', 'chf', 'cif']"
      ]
     },
     "execution_count": 70,
     "metadata": {},
     "output_type": "execute_result"
    }
   ],
   "source": [
    "digits = \"243\"\n",
    "Solution.letterCombinations(Solution,digits)"
   ]
  },
  {
   "cell_type": "code",
   "execution_count": 27,
   "id": "99d29ebd",
   "metadata": {},
   "outputs": [
    {
     "data": {
      "text/plain": [
       "''"
      ]
     },
     "execution_count": 27,
     "metadata": {},
     "output_type": "execute_result"
    }
   ],
   "source": [
    "listnum = [['a','b','c'],['d','e','f'],\n",
    "                   ['g','h','i'],['j','k','l'],\n",
    "                   ['m','n','o'],['p','q','r','s'],\n",
    "                  ['t','u','v'],['w','x','y','z']]\n",
    "fin=['']*6\n",
    "fin[1]"
   ]
  },
  {
   "cell_type": "code",
   "execution_count": 63,
   "id": "bca848b2",
   "metadata": {},
   "outputs": [
    {
     "name": "stdout",
     "output_type": "stream",
     "text": [
      "['add', 'aed', 'afd', 'bde', 'bee', 'bfe', 'cdf', 'cef', 'cff']\n"
     ]
    }
   ],
   "source": [
    "def my_function(x):\n",
    "      return list(dict.fromkeys(x))\n",
    "a = ['add', 'aed', 'afd', 'add', 'aed', 'afd', 'add', 'aed', 'afd', 'bde', 'bee', 'bfe', 'bde', 'bee', 'bfe', 'bde', 'bee', 'bfe', 'cdf', 'cef', 'cff', 'cdf', 'cef', 'cff', 'cdf', 'cef', 'cff']\n",
    "mylist = my_function(a)\n",
    "\n",
    "print(mylist)"
   ]
  },
  {
   "cell_type": "code",
   "execution_count": 35,
   "id": "16971c9a",
   "metadata": {},
   "outputs": [
    {
     "data": {
      "text/plain": [
       "'b'"
      ]
     },
     "execution_count": 35,
     "metadata": {},
     "output_type": "execute_result"
    }
   ],
   "source": [
    "a = 'ss'\n",
    "a = a.join('b')\n",
    "a"
   ]
  },
  {
   "cell_type": "code",
   "execution_count": null,
   "id": "961cda8c",
   "metadata": {},
   "outputs": [],
   "source": [
    "adg aeg afg adh aeh afh adi aei afi"
   ]
  }
 ],
 "metadata": {
  "kernelspec": {
   "display_name": "Python 3 (ipykernel)",
   "language": "python",
   "name": "python3"
  },
  "language_info": {
   "codemirror_mode": {
    "name": "ipython",
    "version": 3
   },
   "file_extension": ".py",
   "mimetype": "text/x-python",
   "name": "python",
   "nbconvert_exporter": "python",
   "pygments_lexer": "ipython3",
   "version": "3.9.12"
  }
 },
 "nbformat": 4,
 "nbformat_minor": 5
}
