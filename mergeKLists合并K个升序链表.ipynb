{
 "cells": [
  {
   "cell_type": "code",
   "execution_count": null,
   "id": "f7b98b95",
   "metadata": {},
   "outputs": [],
   "source": [
    "# Definition for singly-linked list.\n",
    "# class ListNode:\n",
    "#     def __init__(self, val=0, next=None):\n",
    "#         self.val = val\n",
    "#         self.next = next\n",
    "class Solution:\n",
    "    def mergeKLists(self, lists: List[Optional[ListNode]]) -> Optional[ListNode]:\n",
    "        if lists:\n",
    "            fin = ListNode(next=lists[0])\n",
    "            def merge(a,b):\n",
    "                c = a.next\n",
    "                mid = ListNode()\n",
    "                d = mid\n",
    "                while c != None and b != None:\n",
    "                    if c.val > b.val:\n",
    "                        d.next = ListNode(val=b.val)\n",
    "                        b = b.next\n",
    "                        d = d.next\n",
    "                    else:\n",
    "                        d.next = ListNode(val=c.val)\n",
    "                        c = c.next\n",
    "                        d = d.next\n",
    "                while c != None:\n",
    "                    d.next = ListNode(val=c.val)\n",
    "                    c = c.next\n",
    "                    d = d.next\n",
    "                while b != None:\n",
    "                    d.next = ListNode(val=b.val)\n",
    "                    b = b.next\n",
    "                    d = d.next\n",
    "                a.next = mid.next\n",
    "                return a\n",
    "            for i in range(1,len(lists)):\n",
    "                fin = merge(fin,lists[i])\n",
    "            fin = fin.next\n",
    "            return fin \n",
    "        else:\n",
    "            return None"
   ]
  },
  {
   "cell_type": "code",
   "execution_count": null,
   "id": "b532a5ca",
   "metadata": {},
   "outputs": [],
   "source": [
    "# Definition for singly-linked list.\n",
    "# class ListNode:\n",
    "#     def __init__(self, val=0, next=None):\n",
    "#         self.val = val\n",
    "#         self.next = next\n",
    "class Solution:\n",
    "    def mergeKLists(self, lists: List[Optional[ListNode]]) -> Optional[ListNode]:\n",
    "        a = []\n",
    "        for i in range(len(lists)):\n",
    "            c = lists[i]\n",
    "            while c != None:\n",
    "                a.append(c.val)\n",
    "                c = c.next\n",
    "        a.sort()\n",
    "        b = ListNode()\n",
    "        c = b\n",
    "        for j in range(len(a)):\n",
    "            c.next = ListNode(val=a[j])\n",
    "            c = c.next\n",
    "        b = b.next\n",
    "        return b"
   ]
  }
 ],
 "metadata": {
  "kernelspec": {
   "display_name": "Python 3 (ipykernel)",
   "language": "python",
   "name": "python3"
  },
  "language_info": {
   "codemirror_mode": {
    "name": "ipython",
    "version": 3
   },
   "file_extension": ".py",
   "mimetype": "text/x-python",
   "name": "python",
   "nbconvert_exporter": "python",
   "pygments_lexer": "ipython3",
   "version": "3.9.12"
  }
 },
 "nbformat": 4,
 "nbformat_minor": 5
}
