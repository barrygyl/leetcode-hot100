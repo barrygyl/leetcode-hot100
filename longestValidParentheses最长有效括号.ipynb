{
 "cells": [
  {
   "cell_type": "code",
   "execution_count": 37,
   "id": "0ede8c01",
   "metadata": {},
   "outputs": [],
   "source": [
    "class Solution:\n",
    "    def longestValidParentheses(self, s: str) -> int:\n",
    "        stack = []\n",
    "        fin = 0\n",
    "        mid = 0\n",
    "        j = 0\n",
    "        for i in s:\n",
    "            if i == '(':\n",
    "                stack.append(j)\n",
    "            try:\n",
    "                if i == ')':\n",
    "                    stack.pop()\n",
    "                    mid += 2\n",
    "            except:\n",
    "                mid = 0\n",
    "            if mid > fin:\n",
    "                try:\n",
    "                    if j - stack[-1] > fin:\n",
    "                        print('这里{}'.format(stack[-1]))\n",
    "                        fin = j - stack[-1]\n",
    "                except:\n",
    "                    fin = mid\n",
    "                print(fin)\n",
    "            print(stack)\n",
    "            j += 1\n",
    "        return fin "
   ]
  },
  {
   "cell_type": "code",
   "execution_count": 40,
   "id": "a016a14a",
   "metadata": {},
   "outputs": [
    {
     "name": "stdout",
     "output_type": "stream",
     "text": [
      "[0]\n",
      "2\n",
      "[]\n",
      "[2]\n",
      "[2, 3]\n",
      "2\n",
      "[2]\n",
      "2\n",
      "[2, 5]\n",
      "2\n",
      "[2, 5, 6]\n",
      "2\n",
      "[2, 5, 6, 7]\n",
      "2\n",
      "[2, 5, 6, 7, 8]\n",
      "2\n",
      "[2, 5, 6, 7, 8, 9]\n",
      "2\n",
      "[2, 5, 6, 7, 8, 9, 10]\n",
      "2\n",
      "[2, 5, 6, 7, 8, 9, 10, 11]\n",
      "2\n",
      "[2, 5, 6, 7, 8, 9, 10, 11, 12]\n",
      "2\n",
      "[2, 5, 6, 7, 8, 9, 10, 11, 12, 13]\n",
      "2\n",
      "[2, 5, 6, 7, 8, 9, 10, 11, 12]\n",
      "这里11\n",
      "4\n",
      "[2, 5, 6, 7, 8, 9, 10, 11]\n",
      "这里10\n",
      "6\n",
      "[2, 5, 6, 7, 8, 9, 10]\n",
      "这里9\n",
      "8\n",
      "[2, 5, 6, 7, 8, 9]\n",
      "8\n",
      "[2, 5, 6, 7, 8, 9, 18]\n",
      "8\n",
      "[2, 5, 6, 7, 8, 9, 18, 19]\n"
     ]
    },
    {
     "data": {
      "text/plain": [
       "8"
      ]
     },
     "execution_count": 40,
     "metadata": {},
     "output_type": "execute_result"
    }
   ],
   "source": [
    "s = \"()(()((((((((())))((\"\n",
    "Solution.longestValidParentheses(Solution,s)"
   ]
  },
  {
   "cell_type": "code",
   "execution_count": 21,
   "id": "e511e161",
   "metadata": {},
   "outputs": [
    {
     "data": {
      "text/plain": [
       "4"
      ]
     },
     "execution_count": 21,
     "metadata": {},
     "output_type": "execute_result"
    }
   ],
   "source": [
    "a = [1,3,4]\n",
    "a[-1]"
   ]
  },
  {
   "cell_type": "code",
   "execution_count": null,
   "id": "eda1e919",
   "metadata": {},
   "outputs": [],
   "source": []
  }
 ],
 "metadata": {
  "kernelspec": {
   "display_name": "Python 3 (ipykernel)",
   "language": "python",
   "name": "python3"
  },
  "language_info": {
   "codemirror_mode": {
    "name": "ipython",
    "version": 3
   },
   "file_extension": ".py",
   "mimetype": "text/x-python",
   "name": "python",
   "nbconvert_exporter": "python",
   "pygments_lexer": "ipython3",
   "version": "3.9.12"
  }
 },
 "nbformat": 4,
 "nbformat_minor": 5
}
