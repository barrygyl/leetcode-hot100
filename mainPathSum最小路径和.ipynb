{
 "cells": [
  {
   "cell_type": "code",
   "execution_count": 47,
   "id": "8bc92614",
   "metadata": {},
   "outputs": [],
   "source": [
    "class Solution:\n",
    "    def minPathSum(self, grid) -> int:\n",
    "        a = len(grid[0])#列\n",
    "        b = len(grid)#行\n",
    "        print('a',a)\n",
    "        print('b',b)\n",
    "        fin = [[0]*(a)for _ in range(b)]\n",
    "        fin[0][0] = grid[0][0]\n",
    "        for z in range(1,a):\n",
    "            fin[0][z] = grid[0][z] + fin[0][z-1]\n",
    "        for x in range(1,b):\n",
    "            fin[x][0] = grid[x][0] + fin[x-1][0]\n",
    "        print('fin:',fin)\n",
    "        for i in range(1,b):\n",
    "            for j in range(1,a):\n",
    "                print('grid:',grid)\n",
    "                print('i:',i)\n",
    "                print('j:',j)\n",
    "                if fin[i-1][j]+grid[i][j] <= fin[i][j-1]+grid[i][j]:\n",
    "                    fin[i][j] = fin[i-1][j]+grid[i][j]\n",
    "                elif fin[i-1][j]+grid[i][j] > fin[i][j-1]+grid[i][j]:\n",
    "                    fin[i][j] = fin[i][j-1]+grid[i][j]\n",
    "                print(fin)\n",
    "                print('***********')\n",
    "        return fin[b-1][a-1]\n",
    "                "
   ]
  },
  {
   "cell_type": "code",
   "execution_count": 48,
   "id": "a6518bc6",
   "metadata": {},
   "outputs": [
    {
     "name": "stdout",
     "output_type": "stream",
     "text": [
      "a 3\n",
      "b 2\n",
      "fin: [[1, 3, 6], [5, 0, 0]]\n",
      "grid: [[1, 2, 3], [4, 5, 6]]\n",
      "i: 1\n",
      "j: 1\n",
      "[[1, 3, 6], [5, 8, 0]]\n",
      "***********\n",
      "grid: [[1, 2, 3], [4, 5, 6]]\n",
      "i: 1\n",
      "j: 2\n",
      "[[1, 3, 6], [5, 8, 12]]\n",
      "***********\n"
     ]
    },
    {
     "data": {
      "text/plain": [
       "12"
      ]
     },
     "execution_count": 48,
     "metadata": {},
     "output_type": "execute_result"
    }
   ],
   "source": [
    "grid = [[1,2,3],[4,5,6]]\n",
    "Solution.minPathSum(Solution,grid)"
   ]
  },
  {
   "cell_type": "code",
   "execution_count": null,
   "id": "56b7f112",
   "metadata": {},
   "outputs": [],
   "source": []
  },
  {
   "cell_type": "code",
   "execution_count": null,
   "id": "bf817a24",
   "metadata": {},
   "outputs": [],
   "source": []
  }
 ],
 "metadata": {
  "kernelspec": {
   "display_name": "Python 3 (ipykernel)",
   "language": "python",
   "name": "python3"
  },
  "language_info": {
   "codemirror_mode": {
    "name": "ipython",
    "version": 3
   },
   "file_extension": ".py",
   "mimetype": "text/x-python",
   "name": "python",
   "nbconvert_exporter": "python",
   "pygments_lexer": "ipython3",
   "version": "3.9.12"
  }
 },
 "nbformat": 4,
 "nbformat_minor": 5
}
