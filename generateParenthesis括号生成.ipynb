{
 "cells": [
  {
   "cell_type": "code",
   "execution_count": 1,
   "id": "9a70e6d4",
   "metadata": {},
   "outputs": [],
   "source": [
    "class Solution:\n",
    "    def generateParenthesis(self, n: int):\n",
    "        def goback(a):\n",
    "            if len(a) == 2*n:\n",
    "                if isvail(a):\n",
    "                    fin.append( ''.join(a))\n",
    "            else:\n",
    "                a.append('(')\n",
    "                goback(a)\n",
    "                a.pop()\n",
    "                a.append(')')\n",
    "                goback(a)\n",
    "                a.pop()\n",
    "        def isvail(x):\n",
    "            z = 0\n",
    "            for i in x:\n",
    "                if i == '(':\n",
    "                    z += 1\n",
    "                else:\n",
    "                    z -= 1\n",
    "                if z < 0:\n",
    "                    return False\n",
    "            if z == 0:\n",
    "                return True\n",
    "            return False\n",
    "        fin = []\n",
    "        goback([])\n",
    "        return fin\n",
    "            "
   ]
  },
  {
   "cell_type": "code",
   "execution_count": 2,
   "id": "65379710",
   "metadata": {},
   "outputs": [
    {
     "data": {
      "text/plain": [
       "['()']"
      ]
     },
     "execution_count": 2,
     "metadata": {},
     "output_type": "execute_result"
    }
   ],
   "source": [
    "Solution.generateParenthesis(Solution,1)"
   ]
  },
  {
   "cell_type": "code",
   "execution_count": 6,
   "id": "48b29631",
   "metadata": {},
   "outputs": [],
   "source": [
    "class Solution:\n",
    "    def generateParenthesis(self, n: int):\n",
    "        def generate(A):\n",
    "            if len(A) == 2*n:\n",
    "                if valid(A):\n",
    "                    ans.append(\"\".join(A))\n",
    "            else:\n",
    "                A.append('(')\n",
    "                generate(A)\n",
    "                A.pop()\n",
    "                A.append(')')\n",
    "                generate(A)\n",
    "                A.pop()\n",
    "\n",
    "        def valid(x):\n",
    "            z = 0\n",
    "            for i in x:\n",
    "                if i == '(':\n",
    "                    z += 1\n",
    "                else:\n",
    "                    z -= 1\n",
    "                if z < 0:\n",
    "                    return False\n",
    "            if z == 0:\n",
    "                return True\n",
    "            return False\n",
    "\n",
    "        ans = []\n",
    "        generate([])\n",
    "        return ans\n"
   ]
  },
  {
   "cell_type": "code",
   "execution_count": null,
   "id": "bf7a8c15",
   "metadata": {},
   "outputs": [],
   "source": []
  }
 ],
 "metadata": {
  "kernelspec": {
   "display_name": "Python 3 (ipykernel)",
   "language": "python",
   "name": "python3"
  },
  "language_info": {
   "codemirror_mode": {
    "name": "ipython",
    "version": 3
   },
   "file_extension": ".py",
   "mimetype": "text/x-python",
   "name": "python",
   "nbconvert_exporter": "python",
   "pygments_lexer": "ipython3",
   "version": "3.9.12"
  }
 },
 "nbformat": 4,
 "nbformat_minor": 5
}
