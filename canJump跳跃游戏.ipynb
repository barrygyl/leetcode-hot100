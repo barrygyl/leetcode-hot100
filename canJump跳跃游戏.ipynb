{
 "cells": [
  {
   "cell_type": "code",
   "execution_count": 31,
   "id": "ebbb714f",
   "metadata": {},
   "outputs": [],
   "source": [
    "class Solution:\n",
    "    def canJump(self, nums) -> bool: \n",
    "        a = len(nums)-1\n",
    "        fin = [0]\n",
    "        def goback(i):\n",
    "            print('*******************')\n",
    "            print('第{}位置'.format(i))\n",
    "            if i == a:\n",
    "                fin[0]=1\n",
    "                return\n",
    "            if i > a:\n",
    "                return\n",
    "            if nums[i] == 0:\n",
    "                return\n",
    "            print('fin',fin)\n",
    "            print('*******************')\n",
    "            for j in range(1,nums[i]+1):\n",
    "                goback(i+j)\n",
    "        goback(0)\n",
    "        if fin[0]==1:\n",
    "            return True\n",
    "        return False\n",
    "            "
   ]
  },
  {
   "cell_type": "code",
   "execution_count": 48,
   "id": "47b34162",
   "metadata": {},
   "outputs": [],
   "source": [
    "class Solution:\n",
    "    def canJump(self, nums) -> bool:\n",
    "        if len(nums) <= 1:\n",
    "            return True\n",
    "        max1 = 0\n",
    "        mid = 0\n",
    "        for i in range(len(nums)):\n",
    "            if max1 < i:\n",
    "                break\n",
    "            mid = nums[i]+i\n",
    "            if mid > max1:\n",
    "                max1 = mid\n",
    "\n",
    "        if max1 >= len(nums)-1:\n",
    "            return True\n",
    "        return False"
   ]
  },
  {
   "cell_type": "code",
   "execution_count": 49,
   "id": "6aab9a48",
   "metadata": {},
   "outputs": [
    {
     "data": {
      "text/plain": [
       "True"
      ]
     },
     "execution_count": 49,
     "metadata": {},
     "output_type": "execute_result"
    }
   ],
   "source": [
    "nums = [2,0,0]\n",
    "Solution.canJump(Solution,nums)"
   ]
  },
  {
   "cell_type": "code",
   "execution_count": null,
   "id": "9481a7d9",
   "metadata": {},
   "outputs": [],
   "source": []
  }
 ],
 "metadata": {
  "kernelspec": {
   "display_name": "Python 3 (ipykernel)",
   "language": "python",
   "name": "python3"
  },
  "language_info": {
   "codemirror_mode": {
    "name": "ipython",
    "version": 3
   },
   "file_extension": ".py",
   "mimetype": "text/x-python",
   "name": "python",
   "nbconvert_exporter": "python",
   "pygments_lexer": "ipython3",
   "version": "3.9.12"
  }
 },
 "nbformat": 4,
 "nbformat_minor": 5
}
