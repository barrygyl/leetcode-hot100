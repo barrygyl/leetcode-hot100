{
 "cells": [
  {
   "cell_type": "code",
   "execution_count": 48,
   "id": "6506ceed",
   "metadata": {},
   "outputs": [],
   "source": [
    "class Solution:\n",
    "    def isMatch(self, s: str, p: str) -> bool:\n",
    "        if p == '.*':\n",
    "            return True\n",
    "        else:\n",
    "            i = 0\n",
    "            j = 0\n",
    "            z = 0\n",
    "            count = 0\n",
    "            while i <len(s) and j<len(p):\n",
    "                if s[i] == p[j] or p[j] == '.':\n",
    "                    i += 1\n",
    "                    j += 1\n",
    "                    z = 0\n",
    "                elif s[i] != p[j] and p[j] != '.':\n",
    "                    if s[i] == s[i-1] and p[j] == '*' and z == 0:\n",
    "                        i += 1\n",
    "                        z = 0\n",
    "                        count +=1\n",
    "                    elif s[i] == s[i-1] and p[j] == '*' and z != 0:\n",
    "                        j += 1\n",
    "                        z = 0\n",
    "                    elif s[i] != s[i-1] and p[j] == '*':\n",
    "                        j += 1\n",
    "                        z = 0\n",
    "                    elif p[j] != '*' and z == 0:\n",
    "                        try:\n",
    "                            if p[j+1] == '*':\n",
    "                                j += 1\n",
    "                                z = 1\n",
    "                            else:\n",
    "                                if p[j] == p[j-2]:\n",
    "                                    j += 1\n",
    "                                    z = 0\n",
    "                                else:\n",
    "                                    i = 0\n",
    "                        except:\n",
    "                            return False\n",
    "            print(i)\n",
    "            print(j)\n",
    "            if i<len(s):\n",
    "                return False\n",
    "            else:\n",
    "                b = 0\n",
    "                if j<len(p):\n",
    "                    while j <len(p):\n",
    "                        if p[j] == '*':\n",
    "                            b -= 1\n",
    "                            j += 1\n",
    "                        else:\n",
    "                            b += 1\n",
    "                            j += 1\n",
    "                    if b>0:\n",
    "                        return False\n",
    "                    else:\n",
    "                        return True\n",
    "                else:\n",
    "                    return True   "
   ]
  },
  {
   "cell_type": "code",
   "execution_count": 55,
   "id": "43d9dce6",
   "metadata": {},
   "outputs": [
    {
     "name": "stdout",
     "output_type": "stream",
     "text": [
      "2\n",
      "2\n"
     ]
    },
    {
     "data": {
      "text/plain": [
       "False"
      ]
     },
     "execution_count": 55,
     "metadata": {},
     "output_type": "execute_result"
    }
   ],
   "source": [
    "s = \"ab\"\n",
    "p = \".*.*b\"\n",
    "Solution.isMatch(Solution,s,p)"
   ]
  },
  {
   "cell_type": "code",
   "execution_count": null,
   "id": "08303062",
   "metadata": {},
   "outputs": [],
   "source": []
  }
 ],
 "metadata": {
  "kernelspec": {
   "display_name": "Python 3 (ipykernel)",
   "language": "python",
   "name": "python3"
  },
  "language_info": {
   "codemirror_mode": {
    "name": "ipython",
    "version": 3
   },
   "file_extension": ".py",
   "mimetype": "text/x-python",
   "name": "python",
   "nbconvert_exporter": "python",
   "pygments_lexer": "ipython3",
   "version": "3.9.12"
  }
 },
 "nbformat": 4,
 "nbformat_minor": 5
}
