{
 "cells": [
  {
   "cell_type": "code",
   "execution_count": 21,
   "id": "1b70745a",
   "metadata": {},
   "outputs": [],
   "source": [
    "class Solution:\n",
    "    def trap(self, height) -> int:\n",
    "        i = 0\n",
    "        fin = []\n",
    "        while i < len(height):\n",
    "            midw = []\n",
    "            mid = 0\n",
    "            j = i+1\n",
    "            while j<len(height):\n",
    "                if height[j]<height[i]:\n",
    "                    mid = height[i] - height[j]\n",
    "                    midw.append(mid)\n",
    "                    j += 1\n",
    "                else:\n",
    "                    i = j-1\n",
    "                    fin.append(sum(midw))\n",
    "                    break\n",
    "            if j == len(height):\n",
    "                break\n",
    "            i += 1\n",
    "        j = j-1\n",
    "        while j >= i:           \n",
    "            midw = []\n",
    "            mid = 0\n",
    "            z = j - 1\n",
    "            while z>=i:\n",
    "                if height[z]<height[j]:\n",
    "                    mid = height[j] - height[z]\n",
    "                    midw.append(mid)\n",
    "                    z -= 1\n",
    "                else:\n",
    "                    j = z+1\n",
    "                    fin.append(sum(midw))\n",
    "                    break\n",
    "            j -= 1\n",
    "        return sum(fin)"
   ]
  },
  {
   "cell_type": "code",
   "execution_count": 23,
   "id": "64017ad7",
   "metadata": {},
   "outputs": [
    {
     "data": {
      "text/plain": [
       "6"
      ]
     },
     "execution_count": 23,
     "metadata": {},
     "output_type": "execute_result"
    }
   ],
   "source": [
    "height = [4,0,4,2,3,1,2]\n",
    "Solution.trap(Solution,height)"
   ]
  },
  {
   "cell_type": "code",
   "execution_count": null,
   "id": "94072abc",
   "metadata": {},
   "outputs": [],
   "source": []
  }
 ],
 "metadata": {
  "kernelspec": {
   "display_name": "Python 3 (ipykernel)",
   "language": "python",
   "name": "python3"
  },
  "language_info": {
   "codemirror_mode": {
    "name": "ipython",
    "version": 3
   },
   "file_extension": ".py",
   "mimetype": "text/x-python",
   "name": "python",
   "nbconvert_exporter": "python",
   "pygments_lexer": "ipython3",
   "version": "3.9.12"
  }
 },
 "nbformat": 4,
 "nbformat_minor": 5
}
