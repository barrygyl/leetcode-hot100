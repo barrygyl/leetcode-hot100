{
 "cells": [
  {
   "cell_type": "code",
   "execution_count": 27,
   "id": "53e8574f",
   "metadata": {},
   "outputs": [],
   "source": [
    "class Solution:\n",
    "    def isValid(self, s: str) -> bool:\n",
    "        a = []\n",
    "        for i in s:\n",
    "            print('**********')\n",
    "            print(i)\n",
    "            if i == '(' or i == '[' or i == '{':\n",
    "                a.append(i)\n",
    "            print('正向：',a)\n",
    "            try:\n",
    "                if i == ')':\n",
    "                    if a[-1] == '(':\n",
    "                        a.pop()\n",
    "                    else:\n",
    "                        return False\n",
    "                    print('反向：',a)\n",
    "                if i == '}':\n",
    "                    if a[-1] == '{':\n",
    "                        a.pop()\n",
    "                    else:\n",
    "                        return False\n",
    "                    print('反向：',a)\n",
    "                if i == ']':\n",
    "                    if a[-1] == '[':\n",
    "                        a.pop()\n",
    "                    else:\n",
    "                        return False\n",
    "                    print('反向：',a)\n",
    "\n",
    "            except:\n",
    "                return False\n",
    "        if a == []:\n",
    "            return True\n",
    "        return False"
   ]
  },
  {
   "cell_type": "code",
   "execution_count": 29,
   "id": "452cbbf7",
   "metadata": {},
   "outputs": [
    {
     "name": "stdout",
     "output_type": "stream",
     "text": [
      "**********\n",
      "(\n",
      "正向： ['(']\n",
      "**********\n",
      "[\n",
      "正向： ['(', '[']\n",
      "**********\n",
      ")\n",
      "正向： ['(', '[']\n"
     ]
    },
    {
     "data": {
      "text/plain": [
       "False"
      ]
     },
     "execution_count": 29,
     "metadata": {},
     "output_type": "execute_result"
    }
   ],
   "source": [
    "s = \"([)]\"\n",
    "Solution.isValid(Solution,s)"
   ]
  },
  {
   "cell_type": "code",
   "execution_count": 21,
   "id": "081b2bf3",
   "metadata": {},
   "outputs": [
    {
     "data": {
      "text/plain": [
       "'w'"
      ]
     },
     "execution_count": 21,
     "metadata": {},
     "output_type": "execute_result"
    }
   ],
   "source": [
    "a = ['s','a','w']\n",
    "a[-1]"
   ]
  },
  {
   "cell_type": "code",
   "execution_count": null,
   "id": "4ea81725",
   "metadata": {},
   "outputs": [],
   "source": []
  }
 ],
 "metadata": {
  "kernelspec": {
   "display_name": "Python 3 (ipykernel)",
   "language": "python",
   "name": "python3"
  },
  "language_info": {
   "codemirror_mode": {
    "name": "ipython",
    "version": 3
   },
   "file_extension": ".py",
   "mimetype": "text/x-python",
   "name": "python",
   "nbconvert_exporter": "python",
   "pygments_lexer": "ipython3",
   "version": "3.9.12"
  }
 },
 "nbformat": 4,
 "nbformat_minor": 5
}
