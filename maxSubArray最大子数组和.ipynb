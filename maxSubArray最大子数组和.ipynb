{
 "cells": [
  {
   "cell_type": "code",
   "execution_count": 38,
   "id": "2d7d8d8e",
   "metadata": {},
   "outputs": [],
   "source": [
    "class Solution:\n",
    "    def maxSubArray(self, nums) -> int:\n",
    "        fin = max(nums)#最大值会可能低于0，因此用最大值代替\n",
    "        for i in range(len(nums)):\n",
    "            mid = 0\n",
    "            print('第{}次'.format(i))\n",
    "            for j in range(i,len(nums)):\n",
    "                print(nums[j])\n",
    "                mid = nums[j]+mid#先变再检测是否最大也小\n",
    "                if mid>fin:\n",
    "                    fin = mid\n",
    "                try:\n",
    "                    if max(nums[j+1:len(nums)])+mid<=mid:\n",
    "                        break\n",
    "                except:\n",
    "                    pass\n",
    "\n",
    "            print('fin:',fin)\n",
    "        return fin"
   ]
  },
  {
   "cell_type": "code",
   "execution_count": 42,
   "id": "a7a0b417",
   "metadata": {},
   "outputs": [
    {
     "name": "stdout",
     "output_type": "stream",
     "text": [
      "1\n"
     ]
    },
    {
     "data": {
      "text/plain": [
       "6"
      ]
     },
     "execution_count": 42,
     "metadata": {},
     "output_type": "execute_result"
    }
   ],
   "source": [
    "nums = [-2,1,-3,4,-1,2,1,-5,4]\n",
    "b = max(nums[0:2])\n",
    "print(b)\n",
    "Solution.maxSubArray(Solution,nums)"
   ]
  },
  {
   "cell_type": "code",
   "execution_count": 41,
   "id": "7d6d1ea7",
   "metadata": {},
   "outputs": [],
   "source": [
    "class Solution:\n",
    "    def maxSubArray(self, nums) -> int:\n",
    "        fin = nums[0]\n",
    "        mid = nums[0]\n",
    "        for i in range(1,len(nums)):\n",
    "            if mid < 0:\n",
    "                mid = nums[i]\n",
    "            else:\n",
    "                mid += nums[i]\n",
    "            if mid > fin:\n",
    "                fin = mid\n",
    "        return fin"
   ]
  },
  {
   "cell_type": "code",
   "execution_count": null,
   "id": "697eaaed",
   "metadata": {},
   "outputs": [],
   "source": []
  }
 ],
 "metadata": {
  "kernelspec": {
   "display_name": "Python 3 (ipykernel)",
   "language": "python",
   "name": "python3"
  },
  "language_info": {
   "codemirror_mode": {
    "name": "ipython",
    "version": 3
   },
   "file_extension": ".py",
   "mimetype": "text/x-python",
   "name": "python",
   "nbconvert_exporter": "python",
   "pygments_lexer": "ipython3",
   "version": "3.9.12"
  }
 },
 "nbformat": 4,
 "nbformat_minor": 5
}
