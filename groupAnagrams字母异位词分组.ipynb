{
 "cells": [
  {
   "cell_type": "code",
   "execution_count": 77,
   "id": "efbab5f0",
   "metadata": {},
   "outputs": [],
   "source": [
    "class Solution:\n",
    "    def groupAnagrams(self, strs):\n",
    "        fin = []\n",
    "        i = 0\n",
    "        z = 1\n",
    "        while strs:\n",
    "            print('第{}次'.format(z))\n",
    "            mid = []\n",
    "            mid.append(strs[0])\n",
    "            strs.remove(strs[0])\n",
    "            b = len(mid[0])\n",
    "            re0 = mid[0]\n",
    "            print(mid[0])\n",
    "            j = 0\n",
    "            \n",
    "            while j<len(strs):\n",
    "                re = re0\n",
    "                e = 0\n",
    "                print('strs[j]',strs[j])\n",
    "                for s in strs[j]:\n",
    "                    if s not in re:    \n",
    "                        break\n",
    "                    print('s',s)\n",
    "                    re = re.replace(s,'',1)\n",
    "                    print('re:',re)\n",
    "                    e += 1\n",
    "                print('i:',i)\n",
    "                if e == b and e == len(strs[j]):\n",
    "                    mid.append(strs[j])\n",
    "                    print('mid:',mid)\n",
    "                    strs.remove(strs[j])\n",
    "                    j -= 1\n",
    "                j += 1\n",
    "            fin.append(mid)\n",
    "            print(fin)\n",
    "            z += 1\n",
    "            \n",
    "        return fin"
   ]
  },
  {
   "cell_type": "code",
   "execution_count": 78,
   "id": "c504b574",
   "metadata": {},
   "outputs": [
    {
     "name": "stdout",
     "output_type": "stream",
     "text": [
      "第1次\n",
      "ddddddddddg\n",
      "strs[j] dgggggggggg\n",
      "s d\n",
      "re: dddddddddg\n",
      "s g\n",
      "re: ddddddddd\n",
      "i: 0\n",
      "[['ddddddddddg']]\n",
      "第2次\n",
      "dgggggggggg\n",
      "[['ddddddddddg'], ['dgggggggggg']]\n"
     ]
    },
    {
     "data": {
      "text/plain": [
       "[['ddddddddddg'], ['dgggggggggg']]"
      ]
     },
     "execution_count": 78,
     "metadata": {},
     "output_type": "execute_result"
    }
   ],
   "source": [
    "strs = [\"ddddddddddg\",\"dgggggggggg\"]\n",
    "\n",
    "Solution.groupAnagrams(Solution,strs)"
   ]
  },
  {
   "cell_type": "code",
   "execution_count": 81,
   "id": "c97aee1e",
   "metadata": {},
   "outputs": [
    {
     "data": {
      "text/plain": [
       "['a', 'a', 'd', 'd', 's', 'w']"
      ]
     },
     "execution_count": 81,
     "metadata": {},
     "output_type": "execute_result"
    }
   ],
   "source": [
    "a = 'dsadaw'\n",
    "sorted(a)"
   ]
  },
  {
   "cell_type": "code",
   "execution_count": null,
   "id": "3680acae",
   "metadata": {},
   "outputs": [],
   "source": []
  }
 ],
 "metadata": {
  "kernelspec": {
   "display_name": "Python 3 (ipykernel)",
   "language": "python",
   "name": "python3"
  },
  "language_info": {
   "codemirror_mode": {
    "name": "ipython",
    "version": 3
   },
   "file_extension": ".py",
   "mimetype": "text/x-python",
   "name": "python",
   "nbconvert_exporter": "python",
   "pygments_lexer": "ipython3",
   "version": "3.9.12"
  }
 },
 "nbformat": 4,
 "nbformat_minor": 5
}
